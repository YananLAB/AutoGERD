{
 "cells": [
  {
   "cell_type": "code",
   "execution_count": null,
   "id": "82c46f0b",
   "metadata": {
    "vscode": {
     "languageId": "plaintext"
    }
   },
   "outputs": [],
   "source": [
    "import numpy as np\n",
    "import pandas as pd\n",
    "import matplotlib.pyplot as plt\n",
    "from sklearn.metrics import roc_curve\n",
    "from sklearn.metrics import roc_auc_score\n",
    "from sklearn import metrics\n",
    "from sklearn.metrics import confusion_matrix\n",
    "import seaborn as sns"
   ]
  },
  {
   "cell_type": "code",
   "execution_count": null,
   "id": "ead84c13",
   "metadata": {
    "vscode": {
     "languageId": "plaintext"
    }
   },
   "outputs": [],
   "source": [
    "# read data\n",
    "df = pd.read_csv('./data/gerd.csv',index_col=0)"
   ]
  },
  {
   "cell_type": "code",
   "execution_count": null,
   "id": "6524abf1",
   "metadata": {
    "vscode": {
     "languageId": "plaintext"
    }
   },
   "outputs": [],
   "source": [
    "# Divide features and labels, remove and replace miscellaneous items in the features\n",
    "X = df.drop(columns=['Name','gender', 'age', 'birthday', '检查时间', '主诉','诊断结果','LES上缘位置cm', \n",
    "                     'LES位置(距鼻孔)cm','LES下缘位置cm','UES静息压mmHg', 'UES残余压mmHg', '大缺损收缩(次)',\n",
    "       'UES上缘位置cm', '小缺损收缩(次)', 'UES下缘位置cm', 'IEC', 'UES长度cm', 'MRS-DCI',\n",
    "       'UES位置(距鼻孔)cm','label'])\n",
    "X.replace('YES',1,inplace=True)\n",
    "X.replace('NO',0,inplace=True)\n",
    "X.replace('1.#J',1.0,inplace=True)\n",
    "X.replace('--',0,inplace=True)\n",
    "X.replace('-',0,inplace=True)\n",
    "y = df['label']"
   ]
  },
  {
   "cell_type": "code",
   "execution_count": null,
   "id": "b4f98328",
   "metadata": {
    "vscode": {
     "languageId": "plaintext"
    }
   },
   "outputs": [],
   "source": [
    "# dataset split\n",
    "from sklearn.model_selection import train_test_split\n",
    "X_train,X_test,y_train,y_test = train_test_split(X,y,train_size=0.8,random_state= 123, stratify = \n",
    "                                                 y)"
   ]
  },
  {
   "cell_type": "code",
   "execution_count": null,
   "id": "683685ee",
   "metadata": {
    "vscode": {
     "languageId": "plaintext"
    }
   },
   "outputs": [],
   "source": [
    "# The features are divided into training and testing sets based on four different selection methods\n",
    "PCCs_col = ['LES-IRP','LESP','PUT','DMS','TRE','PTT','LRE','TRAC','LES-length','HH']\n",
    "X_pccs = X_train.loc[:,PCCs_col]\n",
    "pccs_test = X_test.loc[:,PCCs_col]\n",
    "\n",
    "from sklearn.datasets import make_friedman1\n",
    "from sklearn.feature_selection import RFECV\n",
    "from sklearn.svm import SVR\n",
    "from sklearn.ensemble import RandomForestClassifier\n",
    "estimator = RandomForestClassifier(oob_score=True,random_state=123,bootstrap=True)\n",
    "selector = RFECV(estimator, step=1, cv=5)\n",
    "selector = selector.fit(X_train, y_train)\n",
    "selector.support_\n",
    "selector.ranking_\n",
    "X_rfe = X_train.loc[:,selector.support_]\n",
    "rfe_test = X_test.loc[:,selector.support_]\n",
    "\n",
    "X_lasso = X_train.loc[:,['TRAC','RE-L-Ac','RE-L-Ak','RE-M-Wa','LESP','LES-length','IBP','HH']]\n",
    "lasso_test = X_test.loc[:,['TRAC','RE-L-Ac','RE-L-Ak','RE-M-Wa','LESP','LES-length','IBP','HH']]\n",
    "\n",
    "X_expert = X_train.loc[:,['LESP','LES-IRP','LES-length','HH','PTT','DMS']]\n",
    "expert_test = X_test.loc[:,['LESP','LES-IRP','LES-length','HH','PTT','DMS']]"
   ]
  },
  {
   "cell_type": "code",
   "execution_count": null,
   "id": "d86dc09d",
   "metadata": {
    "vscode": {
     "languageId": "plaintext"
    }
   },
   "outputs": [],
   "source": [
    "# Using the random forest model to build models for four training sets\n",
    "from sklearn.ensemble import RandomForestClassifier\n",
    "from sklearn.model_selection import GridSearchCV\n",
    "from sklearn.model_selection import RandomizedSearchCV\n",
    "\n",
    "rf_clf = RandomForestClassifier(oob_score=True,random_state=321,bootstrap=True)\n",
    "params_rf = {\n",
    "    'n_estimators': [10,20,30,50,70,100,125,150,175,200,250],\n",
    "    'max_samples':[40,50,60,70,80,90,100,120,140],\n",
    "    'max_depth': [i for i in range(3,10)],\n",
    "    'min_samples_split' : [i for i in range(3,10)],\n",
    "    'min_samples_leaf': [i for i in range(3,10)],\n",
    "    'criterion':['gini', 'entropy', 'log_loss']\n",
    "}\n",
    "grid_pccs = GridSearchCV(\n",
    "    estimator=rf_clf,\n",
    "    param_grid=params_rf,\n",
    "    n_jobs = -1,\n",
    "    cv = 10\n",
    ")\n",
    "grid_pccs.fit(X_pccs,y_train)\n",
    "\n",
    "rf_clf = RandomForestClassifier(oob_score=True,random_state=321,bootstrap=True)\n",
    "params_rf = {\n",
    "    'n_estimators': [10,20,30,50,70,100,125,150,175,200,250],\n",
    "    'max_samples':[40,50,60,70,80,90,100,120,140],\n",
    "    'max_depth': [i for i in range(3,10)],\n",
    "    'min_samples_split' : [i for i in range(3,10)],\n",
    "    'min_samples_leaf': [i for i in range(3,10)],\n",
    "    'criterion':['gini', 'entropy', 'log_loss']\n",
    "}\n",
    "grid_rfe = GridSearchCV(\n",
    "    estimator=rf_clf,\n",
    "    param_grid=params_rf,\n",
    "    n_jobs = -1,\n",
    "    cv = 10\n",
    ")\n",
    "grid_rfe.fit(X_rfe,y_train)\n",
    "\n",
    "\n",
    "rf_clf = RandomForestClassifier(oob_score=True,random_state=321,bootstrap=True)\n",
    "params_rf = {\n",
    "    'n_estimators': [10,20,30,50,70,100,125,150,175,200,250],\n",
    "    'max_samples':[40,50,60,70,80,90,100,120,140],\n",
    "    'max_depth': [i for i in range(3,10)],\n",
    "    'min_samples_split' : [i for i in range(3,10)],\n",
    "    'min_samples_leaf': [i for i in range(3,10)],\n",
    "    'criterion':['gini', 'entropy', 'log_loss']\n",
    "}\n",
    "grid_lasso = GridSearchCV(\n",
    "    estimator=rf_clf,\n",
    "    param_grid=params_rf,\n",
    "    n_jobs = -1,\n",
    "    cv = 10\n",
    ")\n",
    "grid_lasso.fit(X_lasso,y_train)\n",
    "\n",
    "rf_clf = RandomForestClassifier(oob_score=True,random_state=321,bootstrap=True)\n",
    "params_rf = {\n",
    "    'n_estimators': [10,20,30,50,70,100,125,150,175,200,250],\n",
    "    'max_samples':[40,50,60,70,80,90,100,120,140],\n",
    "    'max_depth': [i for i in range(3,10)],\n",
    "    'min_samples_split' : [i for i in range(3,10)],\n",
    "    'min_samples_leaf': [i for i in range(3,10)],\n",
    "    'criterion':['gini', 'entropy', 'log_loss']\n",
    "}\n",
    "grid_export = GridSearchCV(\n",
    "    estimator=rf_clf,\n",
    "    param_grid=params_rf,\n",
    "    n_jobs = -1,\n",
    "    cv = 10\n",
    ")\n",
    "grid_export.fit(X_export,y_train)"
   ]
  },
  {
   "cell_type": "code",
   "execution_count": null,
   "id": "d637eeee",
   "metadata": {
    "vscode": {
     "languageId": "plaintext"
    }
   },
   "outputs": [],
   "source": [
    "# Perform linear fitting using the predicted probabilities of the four feature models\n",
    "pro = (1.26782345*export+0.69267517*lasso-0.66314059*pccs+0.0502186*ref)/1"
   ]
  },
  {
   "cell_type": "code",
   "execution_count": null,
   "id": "14b7262d",
   "metadata": {
    "vscode": {
     "languageId": "plaintext"
    }
   },
   "outputs": [],
   "source": [
    "# Calculate the predicted label based on the obtained fusion probability\n",
    "pre_label = []\n",
    "for i in range(pro.shape[0]):\n",
    "    if(pro[i,0]>pro[i,1]):\n",
    "        pre_label.append(0)\n",
    "    else:\n",
    "        pre_label.append(1)"
   ]
  }
 ],
 "metadata": {
  "language_info": {
   "name": "python"
  }
 },
 "nbformat": 4,
 "nbformat_minor": 5
}
