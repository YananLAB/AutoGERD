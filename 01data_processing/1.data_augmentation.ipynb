{
 "cells": [
  {
   "cell_type": "code",
   "execution_count": null,
   "id": "c07a6d0b",
   "metadata": {
    "vscode": {
     "languageId": "plaintext"
    }
   },
   "outputs": [],
   "source": [
    "import pandas as pd\n",
    "import cv2\n",
    "import numpy as np\n",
    "import os.path\n",
    "import random\n",
    "from PIL import Image"
   ]
  },
  {
   "cell_type": "code",
   "execution_count": null,
   "id": "4198e83c",
   "metadata": {
    "vscode": {
     "languageId": "plaintext"
    }
   },
   "outputs": [],
   "source": [
    "'''Data augmentation function set'''\n",
    "# salt and pepper noise\n",
    "def SaltAndPepper(src,percetage):\n",
    "    SP_NoiseImg=src.copy()\n",
    "    SP_NoiseNum=int(percetage*src.shape[0]*src.shape[1])\n",
    "    for i in range(SP_NoiseNum):\n",
    "        randR=np.random.randint(0,src.shape[0]-1)\n",
    "        randG=np.random.randint(0,src.shape[1]-1)\n",
    "        randB=np.random.randint(0,3)\n",
    "        if np.random.randint(0,1)==0:\n",
    "            SP_NoiseImg[randR,randG,randB]=0\n",
    "        else:\n",
    "            SP_NoiseImg[randR,randG,randB]=255\n",
    "    return SP_NoiseImg\n",
    "\n",
    "# gaussian noise\n",
    "def addGaussianNoise(image,percetage):\n",
    "    G_Noiseimg = image.copy()\n",
    "    w = image.shape[1]\n",
    "    h = image.shape[0]\n",
    "    G_NoiseNum=int(percetage*image.shape[0]*image.shape[1])\n",
    "    for i in range(G_NoiseNum):\n",
    "        temp_x = np.random.randint(0,h)\n",
    "        temp_y = np.random.randint(0,w)\n",
    "        G_Noiseimg[temp_x][temp_y][np.random.randint(3)] = np.random.randn(1)[0]\n",
    "    return G_Noiseimg\n",
    "\n",
    "\n",
    "\n",
    "# rotate\n",
    "def rotate(image, angle, center=None, scale=1.0):\n",
    "    (h, w) = image.shape[:2]\n",
    "    # If no rotation center is specified, the center of the image is set as the rotation center\n",
    "    if center is None:\n",
    "        center = (w / 2, h / 2)\n",
    "    m = cv2.getRotationMatrix2D(center, angle, scale)\n",
    "    rotated = cv2.warpAffine(image, m, (w, h))\n",
    "    return rotated\n",
    "\n",
    "# flip\n",
    "def flip(image):\n",
    "    flipped_image = np.fliplr(image)\n",
    "    return flipped_image\n",
    "\n",
    "# center crop\n",
    "def resizing(img):\n",
    "    height, width, channels = img.shape\n",
    "    r_img = img[int(height/2-height*2/6):int(height/2+height*2/6),int(width/2-width*2/6):int(width/2+width*2/6)]\n",
    "    return r_img"
   ]
  },
  {
   "cell_type": "code",
   "execution_count": null,
   "id": "f477de24",
   "metadata": {
    "vscode": {
     "languageId": "plaintext"
    }
   },
   "outputs": [],
   "source": [
    "# read data\n",
    "trdf = pd.read_csv('./HRM+EIpHM+Esophagoscopes.csv',index_col=0)\n",
    "trdf = pd.DataFrame(trdf).reset_index(drop=True)"
   ]
  },
  {
   "cell_type": "code",
   "execution_count": null,
   "id": "c33dee5a",
   "metadata": {
    "vscode": {
     "languageId": "plaintext"
    }
   },
   "outputs": [],
   "source": [
    "# data augmentation\n",
    "trau=[]\n",
    "tr = []\n",
    "\n",
    "file_dir = '../output/'\n",
    "\n",
    "for i in range(len(trdf)):\n",
    "    label_tr = trdf.loc[i,'label']\n",
    "    imgpath = trdf.loc[i,'path']\n",
    "    if label_tr>=1:\n",
    "        label_tr = 1\n",
    "        label_name = 'surgery'\n",
    "    else:\n",
    "        label_name = 'surgery_free'\n",
    "    img = cv2.imread(imgpath)\n",
    "    path = file_dir\n",
    "    if not os.path.exists(path+imgpath.split('/')[3]):\n",
    "        os.makedirs(path+imgpath.split('/')[3])\n",
    "    cv2.imwrite(path+imgpath.split('/')[3]+'/'+str(i)+'.jpg',img)\n",
    "    trau.append([path+imgpath.split('/')[3]+'/'+str(i)+'.jpg',label_name,trdf.iloc[i,2:]])\n",
    "    tr.append([path+imgpath.split('/')[3]+'/'+str(i)+'.jpg',label_name])\n",
    "\n",
    "    rotated_90 = rotate(img, 90)\n",
    "    cv2.imwrite(path+imgpath.split('/')[3]+'/'+str(i)+'_r90.jpg', rotated_90)\n",
    "    trau.append([path+imgpath.split('/')[3]+'/'+str(i)+'_r90.jpg',label_name,trdf.iloc[i,2:]])\n",
    "\n",
    "    rotated_180 = rotate(img, 180)\n",
    "    cv2.imwrite(path+imgpath.split('/')[3]+'/'+str(i)+'_r180.jpg', rotated_180)\n",
    "    trau.append([path+imgpath.split('/')[3]+'/'+str(i)+'_r180.jpg',label_name,trdf.iloc[i,2:]])\n",
    "\n",
    "    flipped_img = flip(img)\n",
    "    cv2.imwrite(path+imgpath.split('/')[3]+'/'+str(i)+ '_fli.jpg', flipped_img)\n",
    "    trau.append([path+imgpath.split('/')[3]+'/'+str(i)+'_fli.jpg',label_name,trdf.iloc[i,2:]])\n",
    "    \n",
    "    flipped_img_90 = rotate(flipped_img,90)\n",
    "    cv2.imwrite(path+imgpath.split('/')[3]+'/'+str(i)+'_f_r90.jpg', flipped_img_90)\n",
    "    trau.append([path+imgpath.split('/')[3]+'/'+str(i)+'_f_r90.jpg',label_name,trdf.iloc[i,2:]])\n",
    "    flipped_img_180 = rotate(flipped_img,180)\n",
    "    cv2.imwrite(path+imgpath.split('/')[3]+'/'+str(i)+'_f_r180.jpg', flipped_img_180)\n",
    "    trau.append([path+imgpath.split('/')[3]+'/'+str(i)+'_f_r180.jpg',label_name,trdf.iloc[i,2:]])\n",
    "\n",
    "    img_gauss = addGaussianNoise(img, 0.3)\n",
    "    cv2.imwrite(path+imgpath.split('/')[3]+'/'+str(i)+ '_noise.jpg',img_gauss)\n",
    "    trau.append([path+imgpath.split('/')[3]+'/'+str(i)+'_noise.jpg',label_name,trdf.iloc[i,2:]])\n",
    "    \n",
    "    gs_90 = rotate(img, 90)\n",
    "    cv2.imwrite(path+imgpath.split('/')[3]+'/'+str(i)+'_noise_r90.jpg', rotated_90)\n",
    "    trau.append([path+imgpath.split('/')[3]+'/'+str(i)+'_noise_r90.jpg',label_name,trdf.iloc[i,2:]])\n",
    "    \n",
    "    gs_180 = rotate(img, 180)\n",
    "    cv2.imwrite(path+imgpath.split('/')[3]+'/'+str(i)+'_noise_r180.jpg', rotated_90)\n",
    "    trau.append([path+imgpath.split('/')[3]+'/'+str(i)+'_noise_r180.jpg',label_name,trdf.iloc[i,2:]])\n",
    "\n",
    "    blur = cv2.GaussianBlur(img, (3, 3), 0)\n",
    "    cv2.imwrite(path+imgpath.split('/')[3]+'/'+str(i)+ '_blur.jpg',blur)\n",
    "    trau.append([path+imgpath.split('/')[3]+'/'+str(i)+'_blur.jpg',label_name,trdf.iloc[i,2:]])\n",
    "    \n",
    "    blur_90 = rotate(img, 90)\n",
    "    cv2.imwrite(path+imgpath.split('/')[3]+'/'+str(i)+'_blur_r90.jpg', rotated_90)\n",
    "    trau.append([path+imgpath.split('/')[3]+'/'+str(i)+'_blur_r90.jpg',label_name,trdf.iloc[i,2:]])\n",
    "    \n",
    "    blur_180 = rotate(img, 180)\n",
    "    cv2.imwrite(path+imgpath.split('/')[3]+'/'+str(i)+'_blur_r180.jpg', rotated_90)\n",
    "    trau.append([path+imgpath.split('/')[3]+'/'+str(i)+'_blur_r180.jpg',label_name,trdf.iloc[i,2:]])\n",
    "\n",
    "    rs = resizing(img)\n",
    "    cv2.imwrite(path+imgpath.split('/')[3]+'/'+str(i)+ '_resizing.jpg',rs)\n",
    "    trau.append([path+imgpath.split('/')[3]+'/'+str(i)+'_resizing.jpg',label_name,trdf.iloc[i,2:]])\n",
    "    \n",
    "    rs_90 = rotate(rs,90)\n",
    "    cv2.imwrite(path+imgpath.split('/')[3]+'/'+str(i)+'_rs_r90.jpg', rs_90)\n",
    "    trau.append([path+imgpath.split('/')[3]+'/'+str(i)+'_rs_r90.jpg',label_name,trdf.iloc[i,2:]])\n",
    "    rs_180 = rotate(rs,180)\n",
    "    cv2.imwrite(path+imgpath.split('/')[3]+'/'+str(i)+'_rs_r180.jpg', rs_180)\n",
    "    trau.append([path+imgpath.split('/')[3]+'/'+str(i)+'_rs_r180.jpg',label_name,trdf.iloc[i,2:]])\n",
    "    rs_flip = flip(rs)\n",
    "    cv2.imwrite(path+imgpath.split('/')[3]+'/'+str(i)+ '_rs_fli.jpg', rs_flip)\n",
    "    trau.append([path+imgpath.split('/')[3]+'/'+str(i)+'_rs_fli.jpg',label_name,trdf.iloc[i,2:]])\n",
    "    rs_flip_90 = rotate(rs_flip,90)\n",
    "    cv2.imwrite(path+imgpath.split('/')[3]+'/'+str(i)+'_rs_fli_r90.jpg', rs_flip_90)\n",
    "    trau.append([path+imgpath.split('/')[3]+'/'+str(i)+'_rs_fli_r90.jpg',label_name,trdf.iloc[i,2:]])\n",
    "    rs_flip_180 = rotate(rs_flip,180)\n",
    "    cv2.imwrite(path+imgpath.split('/')[3]+'/'+str(i)+'_rs_fli_r180.jpg', rs_flip_180)\n",
    "    trau.append([path+imgpath.split('/')[3]+'/'+str(i)+'_rs_fli_r180.jpg',label_name,trdf.iloc[i,2:]])"
   ]
  },
  {
   "cell_type": "code",
   "execution_count": null,
   "id": "e4fc1d91",
   "metadata": {
    "vscode": {
     "languageId": "plaintext"
    }
   },
   "outputs": [],
   "source": [
    "# save data\n",
    "temp = pd.DataFrame()\n",
    "for i in range(len(trau)):\n",
    "    temp_temp = pd.DataFrame([trau[i][0:2]],columns=['path','label'])\n",
    "    temp_temp = pd.concat([temp_temp,pd.DataFrame(trau[i][2:]).reset_index(drop=True)],axis=1)\n",
    "    if(temp_temp.shape[0]>1):\n",
    "        print(temp_temp)\n",
    "    temp = pd.concat([temp,temp_temp])\n",
    "temp.to_csv('../output/temp_data/all_data.csv',index=False)"
   ]
  },
  {
   "cell_type": "code",
   "execution_count": null,
   "id": "9ac58bd8",
   "metadata": {
    "vscode": {
     "languageId": "plaintext"
    }
   },
   "outputs": [],
   "source": [
    "# encode the labels and save the encoded data\n",
    "traudf = pd.DataFrame(trau,columns=['path','label'])\n",
    "trdf =  pd.DataFrame(tr,columns=['path','label'])\n",
    "traudf.replace('surgery',1,inplace=True)\n",
    "traudf.replace('surgery_free',0,inplace=True)\n",
    "trdf.replace('surgery',1,inplace=True)\n",
    "trdf.replace('surgery_free',0,inplace=True)\n",
    "traudf.to_csv('../output/temp_data/all.csv')"
   ]
  }
 ],
 "metadata": {
  "language_info": {
   "name": "python"
  }
 },
 "nbformat": 4,
 "nbformat_minor": 5
}
