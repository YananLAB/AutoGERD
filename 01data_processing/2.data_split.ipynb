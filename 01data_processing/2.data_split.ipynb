{
 "cells": [
  {
   "cell_type": "code",
   "execution_count": null,
   "id": "7ce60243",
   "metadata": {
    "vscode": {
     "languageId": "plaintext"
    }
   },
   "outputs": [],
   "source": [
    "import pandas as pd\n",
    "import cv2\n",
    "import numpy as np\n",
    "import os.path\n",
    "import random\n",
    "from PIL import Image"
   ]
  },
  {
   "cell_type": "code",
   "execution_count": null,
   "id": "9218a6f6",
   "metadata": {
    "vscode": {
     "languageId": "plaintext"
    }
   },
   "outputs": [],
   "source": [
    "# 读取数据增强和编码后的数据\n",
    "traudf = pd.read_csv('../output/temp_data/all.csv')"
   ]
  },
  {
   "cell_type": "code",
   "execution_count": null,
   "id": "18526bee",
   "metadata": {
    "vscode": {
     "languageId": "plaintext"
    }
   },
   "outputs": [],
   "source": [
    "# 数据重新排序实现随机抽取的功能\n",
    "traudf_shuffle = traudf.sample(frac=1).reset_index(drop=True)"
   ]
  },
  {
   "cell_type": "code",
   "execution_count": null,
   "id": "de29860d",
   "metadata": {
    "vscode": {
     "languageId": "plaintext"
    }
   },
   "outputs": [],
   "source": [
    "# 设置训练集比例并将划分结果保存\n",
    "train_len = int(len(traudf_shuffle)*0.7)\n",
    "traudf_shuffle.iloc[:train_len,:].to_csv('../output/temp_data/train.csv',index=False)\n",
    "traudf_shuffle.iloc[train_len:,:].to_csv('../output/temp_data/test.csv',index=False)"
   ]
  }
 ],
 "metadata": {
  "language_info": {
   "name": "python"
  }
 },
 "nbformat": 4,
 "nbformat_minor": 5
}
