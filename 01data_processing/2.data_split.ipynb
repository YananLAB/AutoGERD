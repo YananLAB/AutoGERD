{
 "cells": [
  {
   "cell_type": "code",
   "execution_count": null,
   "id": "7ce60243",
   "metadata": {
    "vscode": {
     "languageId": "plaintext"
    }
   },
   "outputs": [],
   "source": [
    "import pandas as pd\n",
    "import cv2\n",
    "import numpy as np\n",
    "import os.path\n",
    "import random\n",
    "from PIL import Image"
   ]
  },
  {
   "cell_type": "code",
   "execution_count": null,
   "id": "9218a6f6",
   "metadata": {
    "vscode": {
     "languageId": "plaintext"
    }
   },
   "outputs": [],
   "source": [
    "# read data augmentation and encoded data\n",
    "traudf = pd.read_csv('../output/temp_data/all.csv')"
   ]
  },
  {
   "cell_type": "code",
   "execution_count": null,
   "id": "18526bee",
   "metadata": {
    "vscode": {
     "languageId": "plaintext"
    }
   },
   "outputs": [],
   "source": [
    "# reordering data to achieve random selection functionality\n",
    "traudf_shuffle = traudf.sample(frac=1).reset_index(drop=True)"
   ]
  },
  {
   "cell_type": "code",
   "execution_count": null,
   "id": "de29860d",
   "metadata": {
    "vscode": {
     "languageId": "plaintext"
    }
   },
   "outputs": [],
   "source": [
    "# set the training set ratio and save the partition results\n",
    "train_len = int(len(traudf_shuffle)*0.7)\n",
    "traudf_shuffle.iloc[:train_len,:].to_csv('../output/temp_data/train.csv',index=False)\n",
    "traudf_shuffle.iloc[train_len:,:].to_csv('../output/temp_data/test.csv',index=False)"
   ]
  }
 ],
 "metadata": {
  "language_info": {
   "name": "python"
  }
 },
 "nbformat": 4,
 "nbformat_minor": 5
}
